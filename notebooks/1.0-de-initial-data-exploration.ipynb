{
 "cells": [
  {
   "cell_type": "markdown",
   "id": "5fdefe9a",
   "metadata": {},
   "source": [
    "THE FIRST THING TO DO IS TO UNDERSTAND THE DATA"
   ]
  },
  {
   "cell_type": "code",
   "execution_count": null,
   "id": "bb27a320",
   "metadata": {},
   "outputs": [],
   "source": [
    "# import the necessary libraries\n",
    "import numpy as np\n",
    "import pandas as pd\n",
    "import matplotlib.pyplot as plt\n",
    "import pathlib\n",
    "\n",
    "import seaborn as sns\n",
    "import sys\n",
    "\n",
    "sys.path.append(\"..\")\n",
    "from src.utils import read_csv_file"
   ]
  },
  {
   "cell_type": "code",
   "execution_count": 5,
   "id": "b45a415f",
   "metadata": {},
   "outputs": [],
   "source": [
    "# os.chdir('./Users/ermel/deep_learning_for_energy_recovery/notebooks')\n",
    "\n",
    "DATASET_PATH = pathlib.Path(\"../data/raw\")"
   ]
  },
  {
   "cell_type": "markdown",
   "id": "54091482",
   "metadata": {},
   "source": [
    "## LABELS"
   ]
  },
  {
   "cell_type": "code",
   "execution_count": 10,
   "id": "d4aed099",
   "metadata": {},
   "outputs": [
    {
     "name": "stderr",
     "output_type": "stream",
     "text": [
      "Reading CSV file: 101it [00:00, 165349.22it/s]"
     ]
    },
    {
     "name": "stdout",
     "output_type": "stream",
     "text": [
      "Header: ['Supply_ID', 'CLUSTER']\n",
      "Number of lines: 100\n"
     ]
    },
    {
     "name": "stderr",
     "output_type": "stream",
     "text": [
      "\n"
     ]
    }
   ],
   "source": [
    "labels_path = DATASET_PATH / \"LABELS.csv\"\n",
    "\n",
    "header, lines = read_csv_file(labels_path)\n",
    "\n",
    "print(\"Header:\", header)\n",
    "print(\"Number of lines:\", len(lines))"
   ]
  },
  {
   "cell_type": "code",
   "execution_count": 27,
   "id": "86b6122c",
   "metadata": {},
   "outputs": [
    {
     "name": "stdout",
     "output_type": "stream",
     "text": [
      "Current working directory: /Users/ermel/deep_learning_for_energy_recovery/notebooks\n",
      "Files in current directory: ['.gitkeep', 'explore_datasets.ipynb']\n",
      "Files in parent directory: ['LICENSE', 'uv.lock', 'references', 'pyproject.toml', '.dist', 'models', '__pycache__', 'README.md', '.gitignore', 'utils.py', '.env', '.venv', 'data', 'notebooks', 'reports', 'src']\n"
     ]
    }
   ],
   "source": [
    "import os\n",
    "\n",
    "print(\"Current working directory:\", os.getcwd())\n",
    "print(\"Files in current directory:\", os.listdir(\".\"))\n",
    "print(\"Files in parent directory:\", os.listdir(\"..\"))"
   ]
  },
  {
   "cell_type": "code",
   "execution_count": 28,
   "id": "f9ac02a1",
   "metadata": {},
   "outputs": [
    {
     "data": {
      "text/plain": [
       "Text(0, 0.5, 'Number of Samples')"
      ]
     },
     "execution_count": 28,
     "metadata": {},
     "output_type": "execute_result"
    },
    {
     "data": {
      "image/png": "[encoded data removed]",
      "text/plain": [
       "<Figure size 640x480 with 1 Axes>"
      ]
     },
     "metadata": {},
     "output_type": "display_data"
    }
   ],
   "source": [
    "Frode_mask = lines[:, 1] == \"Frode\"\n",
    "Anomalia_mask = lines[:, 1] == \"Anomalia\"\n",
    "Regolare_mask = lines[:, 1] == \"Regolare\"\n",
    "\n",
    "\n",
    "fig, ax = plt.subplots()\n",
    "\n",
    "classes = [\"Frode\", \"Anomalia\", \"Regolare\"]\n",
    "counts = [np.sum(Frode_mask), np.sum(Anomalia_mask), np.sum(Regolare_mask)]\n",
    "\n",
    "\n",
    "ax.bar(classes, counts, color=sns.color_palette())\n",
    "ax.set_title(\"Distribution of Labels\")\n",
    "ax.set_ylabel(\"Number of Samples\")"
   ]
  },
  {
   "cell_type": "markdown",
   "id": "b684f6bc",
   "metadata": {},
   "source": [
    "we can notice that the class distribution is not balanced, so we will have to take care of that when training the model"
   ]
  },
  {
   "cell_type": "markdown",
   "id": "2d85eb94",
   "metadata": {},
   "source": [
    "## ANAGRAFICA"
   ]
  },
  {
   "cell_type": "code",
   "execution_count": 14,
   "id": "89699fd8",
   "metadata": {},
   "outputs": [
    {
     "name": "stderr",
     "output_type": "stream",
     "text": [
      "Reading CSV file: 1935it [00:00, 500893.55it/s]\n"
     ]
    },
    {
     "data": {
      "text/html": [
       "<div>\n",
       "<style scoped>\n",
       "    .dataframe tbody tr th:only-of-type {\n",
       "        vertical-align: middle;\n",
       "    }\n",
       "\n",
       "    .dataframe tbody tr th {\n",
       "        vertical-align: top;\n",
       "    }\n",
       "\n",
       "    .dataframe thead th {\n",
       "        text-align: right;\n",
       "    }\n",
       "</style>\n",
       "<table border=\"1\" class=\"dataframe\">\n",
       "  <thead>\n",
       "    <tr style=\"text-align: right;\">\n",
       "      <th></th>\n",
       "      <th>Supply_ID</th>\n",
       "      <th>begin_date_ref</th>\n",
       "      <th>end_date_ref</th>\n",
       "      <th>available_power</th>\n",
       "      <th>supply_status</th>\n",
       "    </tr>\n",
       "  </thead>\n",
       "  <tbody>\n",
       "    <tr>\n",
       "      <th>0</th>\n",
       "      <td>SUPPLY001</td>\n",
       "      <td>06/11/2005 23:00:00</td>\n",
       "      <td>31/12/2006 22:59:59</td>\n",
       "      <td></td>\n",
       "      <td>C</td>\n",
       "    </tr>\n",
       "    <tr>\n",
       "      <th>1</th>\n",
       "      <td>SUPPLY001</td>\n",
       "      <td>31/12/2006 23:00:00</td>\n",
       "      <td>05/02/2007 12:08:37</td>\n",
       "      <td></td>\n",
       "      <td>C</td>\n",
       "    </tr>\n",
       "    <tr>\n",
       "      <th>2</th>\n",
       "      <td>SUPPLY001</td>\n",
       "      <td>05/02/2007 12:08:38</td>\n",
       "      <td>29/06/2008 21:59:59</td>\n",
       "      <td></td>\n",
       "      <td>C</td>\n",
       "    </tr>\n",
       "    <tr>\n",
       "      <th>3</th>\n",
       "      <td>SUPPLY001</td>\n",
       "      <td>29/06/2008 22:00:00</td>\n",
       "      <td>31/12/2008 22:59:59</td>\n",
       "      <td></td>\n",
       "      <td>C</td>\n",
       "    </tr>\n",
       "    <tr>\n",
       "      <th>4</th>\n",
       "      <td>SUPPLY001</td>\n",
       "      <td>31/12/2008 23:00:00</td>\n",
       "      <td>29/07/2013 21:59:59</td>\n",
       "      <td></td>\n",
       "      <td>C</td>\n",
       "    </tr>\n",
       "  </tbody>\n",
       "</table>\n",
       "</div>"
      ],
      "text/plain": [
       "   Supply_ID       begin_date_ref         end_date_ref available_power  \\\n",
       "0  SUPPLY001  06/11/2005 23:00:00  31/12/2006 22:59:59                   \n",
       "1  SUPPLY001  31/12/2006 23:00:00  05/02/2007 12:08:37                   \n",
       "2  SUPPLY001  05/02/2007 12:08:38  29/06/2008 21:59:59                   \n",
       "3  SUPPLY001  29/06/2008 22:00:00  31/12/2008 22:59:59                   \n",
       "4  SUPPLY001  31/12/2008 23:00:00  29/07/2013 21:59:59                   \n",
       "\n",
       "  supply_status  \n",
       "0             C  \n",
       "1             C  \n",
       "2             C  \n",
       "3             C  \n",
       "4             C  "
      ]
     },
     "execution_count": 14,
     "metadata": {},
     "output_type": "execute_result"
    }
   ],
   "source": [
    "anagrafica_path = os.path.join(DATASET_PATH, \"ANAGRAFICA.csv\")\n",
    "\n",
    "\n",
    "header, lines = read_csv_file(anagrafica_path)\n",
    "\n",
    "pandas_df = pd.DataFrame(lines, columns=header)\n",
    "pandas_df.head()"
   ]
  },
  {
   "cell_type": "code",
   "execution_count": 19,
   "id": "4615c087",
   "metadata": {},
   "outputs": [
    {
     "data": {
      "text/plain": [
       "<Axes: xlabel='Supply_ID'>"
      ]
     },
     "execution_count": 19,
     "metadata": {},
     "output_type": "execute_result"
    },
    {
     "data": {
      "image/png": "[encoded data removed]",
      "text/plain": [
       "<Figure size 1000x500 with 1 Axes>"
      ]
     },
     "metadata": {},
     "output_type": "display_data"
    }
   ],
   "source": [
    "pandas_df[\"Supply_ID\"].value_counts().plot(\n",
    "    kind=\"bar\", figsize=(10, 5), color=sns.color_palette()\n",
    ")"
   ]
  },
  {
   "cell_type": "markdown",
   "id": "3504479f",
   "metadata": {},
   "source": [
    "## CONSUMI"
   ]
  },
  {
   "cell_type": "code",
   "execution_count": 73,
   "id": "895b4981",
   "metadata": {},
   "outputs": [
    {
     "data": {
      "text/html": [
       "<div>\n",
       "<style scoped>\n",
       "    .dataframe tbody tr th:only-of-type {\n",
       "        vertical-align: middle;\n",
       "    }\n",
       "\n",
       "    .dataframe tbody tr th {\n",
       "        vertical-align: top;\n",
       "    }\n",
       "\n",
       "    .dataframe thead th {\n",
       "        text-align: right;\n",
       "    }\n",
       "</style>\n",
       "<table border=\"1\" class=\"dataframe\">\n",
       "  <thead>\n",
       "    <tr style=\"text-align: right;\">\n",
       "      <th></th>\n",
       "      <th>Supply_ID</th>\n",
       "      <th>meas_ym</th>\n",
       "      <th>meas_dd</th>\n",
       "      <th>id</th>\n",
       "      <th>val</th>\n",
       "      <th>magnitude</th>\n",
       "    </tr>\n",
       "  </thead>\n",
       "  <tbody>\n",
       "    <tr>\n",
       "      <th>0</th>\n",
       "      <td>SUPPLY001</td>\n",
       "      <td>202210</td>\n",
       "      <td>20</td>\n",
       "      <td>1</td>\n",
       "      <td>0</td>\n",
       "      <td>A1</td>\n",
       "    </tr>\n",
       "    <tr>\n",
       "      <th>1</th>\n",
       "      <td>SUPPLY001</td>\n",
       "      <td>202210</td>\n",
       "      <td>20</td>\n",
       "      <td>2</td>\n",
       "      <td>0</td>\n",
       "      <td>A1</td>\n",
       "    </tr>\n",
       "    <tr>\n",
       "      <th>2</th>\n",
       "      <td>SUPPLY001</td>\n",
       "      <td>202210</td>\n",
       "      <td>20</td>\n",
       "      <td>3</td>\n",
       "      <td>0</td>\n",
       "      <td>A1</td>\n",
       "    </tr>\n",
       "    <tr>\n",
       "      <th>3</th>\n",
       "      <td>SUPPLY001</td>\n",
       "      <td>202210</td>\n",
       "      <td>20</td>\n",
       "      <td>4</td>\n",
       "      <td>0</td>\n",
       "      <td>A1</td>\n",
       "    </tr>\n",
       "    <tr>\n",
       "      <th>4</th>\n",
       "      <td>SUPPLY001</td>\n",
       "      <td>202210</td>\n",
       "      <td>20</td>\n",
       "      <td>5</td>\n",
       "      <td>0</td>\n",
       "      <td>A1</td>\n",
       "    </tr>\n",
       "  </tbody>\n",
       "</table>\n",
       "</div>"
      ],
      "text/plain": [
       "   Supply_ID meas_ym meas_dd id val magnitude\n",
       "0  SUPPLY001  202210      20  1   0        A1\n",
       "1  SUPPLY001  202210      20  2   0        A1\n",
       "2  SUPPLY001  202210      20  3   0        A1\n",
       "3  SUPPLY001  202210      20  4   0        A1\n",
       "4  SUPPLY001  202210      20  5   0        A1"
      ]
     },
     "execution_count": 73,
     "metadata": {},
     "output_type": "execute_result"
    }
   ],
   "source": [
    "consumi_path = os.path.join(DATASET_PATH, \"CONSUMI.csv\")\n",
    "\n",
    "header, lines = read_csv_file(consumi_path)\n",
    "\n",
    "pandas_df = pd.DataFrame(lines, columns=header)\n",
    "pandas_df.head()"
   ]
  },
  {
   "cell_type": "code",
   "execution_count": 20,
   "id": "afaf4826",
   "metadata": {},
   "outputs": [
    {
     "data": {
      "text/plain": [
       "<Axes: xlabel='Supply_ID'>"
      ]
     },
     "execution_count": 20,
     "metadata": {},
     "output_type": "execute_result"
    },
    {
     "data": {
      "image/png": "[encoded data removed]",
      "text/plain": [
       "<Figure size 1000x500 with 1 Axes>"
      ]
     },
     "metadata": {},
     "output_type": "display_data"
    }
   ],
   "source": [
    "pandas_df[\"Supply_ID\"].value_counts().plot(\n",
    "    kind=\"bar\", figsize=(10, 5), color=sns.color_palette()\n",
    ")"
   ]
  },
  {
   "cell_type": "markdown",
   "id": "c2f15876",
   "metadata": {},
   "source": [
    "## LAVORI"
   ]
  },
  {
   "cell_type": "code",
   "execution_count": 21,
   "id": "38c513a6",
   "metadata": {},
   "outputs": [
    {
     "name": "stderr",
     "output_type": "stream",
     "text": [
      "Reading CSV file: 855it [00:00, 246961.64it/s]\n"
     ]
    },
    {
     "data": {
      "text/html": [
       "<div>\n",
       "<style scoped>\n",
       "    .dataframe tbody tr th:only-of-type {\n",
       "        vertical-align: middle;\n",
       "    }\n",
       "\n",
       "    .dataframe tbody tr th {\n",
       "        vertical-align: top;\n",
       "    }\n",
       "\n",
       "    .dataframe thead th {\n",
       "        text-align: right;\n",
       "    }\n",
       "</style>\n",
       "<table border=\"1\" class=\"dataframe\">\n",
       "  <thead>\n",
       "    <tr style=\"text-align: right;\">\n",
       "      <th></th>\n",
       "      <th>Supply_ID</th>\n",
       "      <th>woa_activity_type</th>\n",
       "      <th>woa_activity_subtype</th>\n",
       "      <th>woe_dt_execution</th>\n",
       "    </tr>\n",
       "  </thead>\n",
       "  <tbody>\n",
       "    <tr>\n",
       "      <th>0</th>\n",
       "      <td>SUPPLY001</td>\n",
       "      <td>RISG</td>\n",
       "      <td>BT</td>\n",
       "      <td>26/05/2020 08:32:38</td>\n",
       "    </tr>\n",
       "    <tr>\n",
       "      <th>1</th>\n",
       "      <td>SUPPLY001</td>\n",
       "      <td>RISG</td>\n",
       "      <td>BT</td>\n",
       "      <td>27/05/2020 09:28:38</td>\n",
       "    </tr>\n",
       "    <tr>\n",
       "      <th>2</th>\n",
       "      <td>SUPPLY001</td>\n",
       "      <td>RISG</td>\n",
       "      <td>BT</td>\n",
       "      <td>27/05/2020 14:34:27</td>\n",
       "    </tr>\n",
       "    <tr>\n",
       "      <th>3</th>\n",
       "      <td>SUPPLY001</td>\n",
       "      <td>RISG</td>\n",
       "      <td>BT</td>\n",
       "      <td>28/05/2020 15:55:00</td>\n",
       "    </tr>\n",
       "    <tr>\n",
       "      <th>4</th>\n",
       "      <td>SUPPLY001</td>\n",
       "      <td>RISG</td>\n",
       "      <td>BT</td>\n",
       "      <td>29/05/2020 18:06:18</td>\n",
       "    </tr>\n",
       "  </tbody>\n",
       "</table>\n",
       "</div>"
      ],
      "text/plain": [
       "   Supply_ID woa_activity_type woa_activity_subtype     woe_dt_execution\n",
       "0  SUPPLY001              RISG                   BT  26/05/2020 08:32:38\n",
       "1  SUPPLY001              RISG                   BT  27/05/2020 09:28:38\n",
       "2  SUPPLY001              RISG                   BT  27/05/2020 14:34:27\n",
       "3  SUPPLY001              RISG                   BT  28/05/2020 15:55:00\n",
       "4  SUPPLY001              RISG                   BT  29/05/2020 18:06:18"
      ]
     },
     "execution_count": 21,
     "metadata": {},
     "output_type": "execute_result"
    }
   ],
   "source": [
    "lavori_path = os.path.join(DATASET_PATH, \"LAVORI.csv\")\n",
    "\n",
    "header, lines = read_csv_file(lavori_path)\n",
    "\n",
    "pandas_df = pd.DataFrame(lines, columns=header)\n",
    "pandas_df.head()"
   ]
  },
  {
   "cell_type": "code",
   "execution_count": 22,
   "id": "b7f58fe0",
   "metadata": {},
   "outputs": [
    {
     "data": {
      "text/plain": [
       "<Axes: xlabel='Supply_ID'>"
      ]
     },
     "execution_count": 22,
     "metadata": {},
     "output_type": "execute_result"
    },
    {
     "data": {
      "image/png": "[encoded data removed]",
      "text/plain": [
       "<Figure size 1000x500 with 1 Axes>"
      ]
     },
     "metadata": {},
     "output_type": "display_data"
    }
   ],
   "source": [
    "pandas_df[\"Supply_ID\"].value_counts().plot(\n",
    "    kind=\"bar\", figsize=(10, 5), color=sns.color_palette()\n",
    ")"
   ]
  },
  {
   "cell_type": "markdown",
   "id": "954711be",
   "metadata": {},
   "source": [
    "## INTERRUZIONI"
   ]
  },
  {
   "cell_type": "code",
   "execution_count": 24,
   "id": "be7e62d0",
   "metadata": {},
   "outputs": [
    {
     "name": "stderr",
     "output_type": "stream",
     "text": [
      "Reading CSV file: 363it [00:00, 334843.27it/s]\n"
     ]
    },
    {
     "data": {
      "text/html": [
       "<div>\n",
       "<style scoped>\n",
       "    .dataframe tbody tr th:only-of-type {\n",
       "        vertical-align: middle;\n",
       "    }\n",
       "\n",
       "    .dataframe tbody tr th {\n",
       "        vertical-align: top;\n",
       "    }\n",
       "\n",
       "    .dataframe thead th {\n",
       "        text-align: right;\n",
       "    }\n",
       "</style>\n",
       "<table border=\"1\" class=\"dataframe\">\n",
       "  <thead>\n",
       "    <tr style=\"text-align: right;\">\n",
       "      <th></th>\n",
       "      <th>Supply_ID</th>\n",
       "      <th>tipologia_interruzione</th>\n",
       "      <th>start_date</th>\n",
       "      <th>end_date</th>\n",
       "      <th>durata_netta</th>\n",
       "    </tr>\n",
       "  </thead>\n",
       "  <tbody>\n",
       "    <tr>\n",
       "      <th>0</th>\n",
       "      <td>SUPPLY001</td>\n",
       "      <td>C</td>\n",
       "      <td>03/05/2018</td>\n",
       "      <td>03/05/2018</td>\n",
       "      <td>288</td>\n",
       "    </tr>\n",
       "    <tr>\n",
       "      <th>1</th>\n",
       "      <td>SUPPLY001</td>\n",
       "      <td>A</td>\n",
       "      <td>08/05/2018</td>\n",
       "      <td>08/05/2018</td>\n",
       "      <td>276</td>\n",
       "    </tr>\n",
       "    <tr>\n",
       "      <th>2</th>\n",
       "      <td>SUPPLY001</td>\n",
       "      <td>A</td>\n",
       "      <td>15/05/2018</td>\n",
       "      <td>15/05/2018</td>\n",
       "      <td>58</td>\n",
       "    </tr>\n",
       "    <tr>\n",
       "      <th>3</th>\n",
       "      <td>SUPPLY001</td>\n",
       "      <td>A</td>\n",
       "      <td>29/06/2018</td>\n",
       "      <td>29/06/2018</td>\n",
       "      <td>65</td>\n",
       "    </tr>\n",
       "    <tr>\n",
       "      <th>4</th>\n",
       "      <td>SUPPLY001</td>\n",
       "      <td>C</td>\n",
       "      <td>17/07/2018</td>\n",
       "      <td>17/07/2018</td>\n",
       "      <td>496</td>\n",
       "    </tr>\n",
       "  </tbody>\n",
       "</table>\n",
       "</div>"
      ],
      "text/plain": [
       "   Supply_ID tipologia_interruzione  start_date    end_date durata_netta\n",
       "0  SUPPLY001                      C  03/05/2018  03/05/2018          288\n",
       "1  SUPPLY001                      A  08/05/2018  08/05/2018          276\n",
       "2  SUPPLY001                      A  15/05/2018  15/05/2018           58\n",
       "3  SUPPLY001                      A  29/06/2018  29/06/2018           65\n",
       "4  SUPPLY001                      C  17/07/2018  17/07/2018          496"
      ]
     },
     "execution_count": 24,
     "metadata": {},
     "output_type": "execute_result"
    }
   ],
   "source": [
    "interruzioni_path = os.path.join(DATASET_PATH, \"INTERRUZIONI.csv\")\n",
    "\n",
    "header, lines = read_csv_file(interruzioni_path)\n",
    "\n",
    "pandas_df = pd.DataFrame(lines, columns=header)\n",
    "pandas_df.head()"
   ]
  },
  {
   "cell_type": "code",
   "execution_count": 25,
   "id": "f5d43c4c",
   "metadata": {},
   "outputs": [
    {
     "data": {
      "text/plain": [
       "<Axes: xlabel='Supply_ID'>"
      ]
     },
     "execution_count": 25,
     "metadata": {},
     "output_type": "execute_result"
    },
    {
     "data": {
      "image/png": "[encoded data removed]",
      "text/plain": [
       "<Figure size 1000x500 with 1 Axes>"
      ]
     },
     "metadata": {},
     "output_type": "display_data"
    }
   ],
   "source": [
    "pandas_df[\"Supply_ID\"].value_counts().plot(\n",
    "    kind=\"bar\", figsize=(10, 5), color=sns.color_palette()\n",
    ")"
   ]
  },
  {
   "cell_type": "markdown",
   "id": "0b70b937",
   "metadata": {},
   "source": [
    "## PAROLE DI STATO"
   ]
  },
  {
   "cell_type": "code",
   "execution_count": 27,
   "id": "d81218c3",
   "metadata": {},
   "outputs": [
    {
     "name": "stderr",
     "output_type": "stream",
     "text": [
      "Reading CSV file: 66518it [00:00, 379502.17it/s]\n"
     ]
    },
    {
     "data": {
      "text/html": [
       "<div>\n",
       "<style scoped>\n",
       "    .dataframe tbody tr th:only-of-type {\n",
       "        vertical-align: middle;\n",
       "    }\n",
       "\n",
       "    .dataframe tbody tr th {\n",
       "        vertical-align: top;\n",
       "    }\n",
       "\n",
       "    .dataframe thead th {\n",
       "        text-align: right;\n",
       "    }\n",
       "</style>\n",
       "<table border=\"1\" class=\"dataframe\">\n",
       "  <thead>\n",
       "    <tr style=\"text-align: right;\">\n",
       "      <th></th>\n",
       "      <th>Supply_ID</th>\n",
       "      <th>meas_ts</th>\n",
       "      <th>ListaParole</th>\n",
       "    </tr>\n",
       "  </thead>\n",
       "  <tbody>\n",
       "    <tr>\n",
       "      <th>0</th>\n",
       "      <td>SUPPLY001</td>\n",
       "      <td>31/12/2017 23:00:00</td>\n",
       "      <td>PUP</td>\n",
       "    </tr>\n",
       "    <tr>\n",
       "      <th>1</th>\n",
       "      <td>SUPPLY001</td>\n",
       "      <td>06/01/2018 23:00:00</td>\n",
       "      <td>PUP</td>\n",
       "    </tr>\n",
       "    <tr>\n",
       "      <th>2</th>\n",
       "      <td>SUPPLY001</td>\n",
       "      <td>31/01/2018 23:00:00</td>\n",
       "      <td>PUP</td>\n",
       "    </tr>\n",
       "    <tr>\n",
       "      <th>3</th>\n",
       "      <td>SUPPLY001</td>\n",
       "      <td>28/02/2018 23:00:00</td>\n",
       "      <td>PUP</td>\n",
       "    </tr>\n",
       "    <tr>\n",
       "      <th>4</th>\n",
       "      <td>SUPPLY001</td>\n",
       "      <td>03/03/2018 23:00:00</td>\n",
       "      <td>PUP</td>\n",
       "    </tr>\n",
       "  </tbody>\n",
       "</table>\n",
       "</div>"
      ],
      "text/plain": [
       "   Supply_ID              meas_ts ListaParole\n",
       "0  SUPPLY001  31/12/2017 23:00:00         PUP\n",
       "1  SUPPLY001  06/01/2018 23:00:00         PUP\n",
       "2  SUPPLY001  31/01/2018 23:00:00         PUP\n",
       "3  SUPPLY001  28/02/2018 23:00:00         PUP\n",
       "4  SUPPLY001  03/03/2018 23:00:00         PUP"
      ]
     },
     "execution_count": 27,
     "metadata": {},
     "output_type": "execute_result"
    }
   ],
   "source": [
    "parole_di_stato_path = os.path.join(DATASET_PATH, \"PAROLE_DI_STATO.csv\")\n",
    "\n",
    "header, lines = read_csv_file(parole_di_stato_path)\n",
    "\n",
    "pandas_df = pd.DataFrame(lines, columns=header)\n",
    "pandas_df.head()"
   ]
  },
  {
   "cell_type": "code",
   "execution_count": 28,
   "id": "002d1dc9",
   "metadata": {},
   "outputs": [
    {
     "data": {
      "text/plain": [
       "<Axes: xlabel='Supply_ID'>"
      ]
     },
     "execution_count": 28,
     "metadata": {},
     "output_type": "execute_result"
    },
    {
     "data": {
      "image/png": "[encoded data removed]",
      "text/plain": [
       "<Figure size 1000x500 with 1 Axes>"
      ]
     },
     "metadata": {},
     "output_type": "display_data"
    }
   ],
   "source": [
    "pandas_df[\"Supply_ID\"].value_counts().plot(\n",
    "    kind=\"bar\", figsize=(10, 5), color=sns.color_palette()\n",
    ")"
   ]
  },
  {
   "cell_type": "code",
   "execution_count": null,
   "id": "264b5a7a",
   "metadata": {},
   "outputs": [],
   "source": []
  }
 ],
 "metadata": {
  "kernelspec": {
   "display_name": "deep-learning-for-energy-recovery",
   "language": "python",
   "name": "python3"
  },
  "language_info": {
   "codemirror_mode": {
    "name": "ipython",
    "version": 3
   },
   "file_extension": ".py",
   "mimetype": "text/x-python",
   "name": "python",
   "nbconvert_exporter": "python",
   "pygments_lexer": "ipython3",
   "version": "3.11.12"
  }
 },
 "nbformat": 4,
 "nbformat_minor": 5
}
